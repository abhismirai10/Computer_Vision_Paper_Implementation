{
 "cells": [
  {
   "cell_type": "code",
   "execution_count": 1,
   "metadata": {},
   "outputs": [
    {
     "data": {
      "text/plain": [
       "(0, 0, 0, 1)"
      ]
     },
     "execution_count": 1,
     "metadata": {},
     "output_type": "execute_result"
    }
   ],
   "source": [
    "def AND(x1, x2):\n",
    "    w1, w2, theta = 0.5, 0.5, 0.7\n",
    "    tmp = x1*w1 + x2*w2\n",
    "\n",
    "    if theta < tmp:\n",
    "        return 1\n",
    "    elif theta > tmp:\n",
    "        return 0     \n",
    "\n",
    "AND(0,0), AND(0,1), AND(1,0), AND(1,1),    "
   ]
  },
  {
   "cell_type": "code",
   "execution_count": 4,
   "metadata": {},
   "outputs": [
    {
     "data": {
      "text/plain": [
       "(0, 1, 1, 1)"
      ]
     },
     "execution_count": 4,
     "metadata": {},
     "output_type": "execute_result"
    }
   ],
   "source": [
    "import numpy as np\n",
    "\n",
    "def OR(x1, x2):\n",
    "    w = np.array([0.5, 0.5])\n",
    "    b = -0.3\n",
    "    x = np.array([x1, x2])\n",
    "\n",
    "    tmp = np.sum (x * w) + b\n",
    "\n",
    "    if 0 < tmp:\n",
    "        return 1\n",
    "    elif 0 > tmp:\n",
    "        return 0\n",
    "    \n",
    "OR(0,0), OR(1,0), OR(0,1), OR(1,1)"
   ]
  },
  {
   "cell_type": "code",
   "execution_count": 8,
   "metadata": {},
   "outputs": [
    {
     "data": {
      "text/plain": [
       "(1, 1, 1, 0)"
      ]
     },
     "execution_count": 8,
     "metadata": {},
     "output_type": "execute_result"
    }
   ],
   "source": [
    "def NAND(x1, x2):\n",
    "    w = np.array([0.5, 0.5])\n",
    "    b = -0.7\n",
    "    x = np.array([x1, x2])\n",
    "\n",
    "    tmp = np.sum (x * w) + b\n",
    "\n",
    "    if 0 < tmp:\n",
    "        return 0\n",
    "    elif 0 > tmp:\n",
    "        return 1\n",
    "    \n",
    "NAND(0,0), NAND(1,0), NAND(0,1), NAND(1,1)"
   ]
  },
  {
   "cell_type": "code",
   "execution_count": 9,
   "metadata": {},
   "outputs": [
    {
     "data": {
      "text/plain": [
       "(0, 1, 1, 0)"
      ]
     },
     "execution_count": 9,
     "metadata": {},
     "output_type": "execute_result"
    }
   ],
   "source": [
    "def XOR(x1,x2):\n",
    "    s1 = NAND(x1,x2)\n",
    "    s2 = OR(x1, x2)\n",
    "    y = AND(s1, s2)\n",
    "\n",
    "    return y\n",
    "\n",
    "XOR(0,0), XOR(1,0), XOR(0,1), XOR(1,1)"
   ]
  },
  {
   "cell_type": "code",
   "execution_count": null,
   "metadata": {},
   "outputs": [],
   "source": []
  }
 ],
 "metadata": {
  "kernelspec": {
   "display_name": "dl",
   "language": "python",
   "name": "python3"
  },
  "language_info": {
   "codemirror_mode": {
    "name": "ipython",
    "version": 3
   },
   "file_extension": ".py",
   "mimetype": "text/x-python",
   "name": "python",
   "nbconvert_exporter": "python",
   "pygments_lexer": "ipython3",
   "version": "3.11.8"
  }
 },
 "nbformat": 4,
 "nbformat_minor": 2
}
